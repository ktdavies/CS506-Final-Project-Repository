{
 "cells": [
  {
   "cell_type": "markdown",
   "metadata": {},
   "source": [
    "# Prepare Workspace"
   ]
  },
  {
   "cell_type": "code",
   "execution_count": 1,
   "metadata": {},
   "outputs": [],
   "source": [
    "import pandas as pd"
   ]
  },
  {
   "cell_type": "code",
   "execution_count": 2,
   "metadata": {},
   "outputs": [],
   "source": [
    "# Load datasets explicitly\n",
    "airports = pd.read_csv('/Users/michael/Desktop/CS506 Project/Airports.csv', skiprows=1)\n",
    "flights = pd.read_csv('/Users/michael/Desktop/CS506 Project/Flights.csv')\n",
    "weather = pd.read_csv('/Users/michael/Desktop/CS506 Project/Weather.csv')"
   ]
  },
  {
   "cell_type": "markdown",
   "metadata": {},
   "source": [
    "# Step 1: Clean and Prepare Airports and Weather Datasets"
   ]
  },
  {
   "cell_type": "code",
   "execution_count": 3,
   "metadata": {},
   "outputs": [],
   "source": [
    "# Explicitly clean and prepare Airports DataFrame to map ICAO to IATA clearly\n",
    "airport_codes = airports[['icao', 'code']].copy()\n",
    "airport_codes.columns = ['ICAO', 'IATA']\n",
    "airport_codes['ICAO'] = airport_codes['ICAO'].str.strip().str.upper()\n",
    "airport_codes['IATA'] = airport_codes['IATA'].str.strip().str.upper()\n",
    "\n",
    "# Clean Weather dataset explicitly and prepare ICAO and date columns\n",
    "weather['AirportCode'] = weather['AirportCode'].str.strip().str.upper()\n",
    "weather['Date'] = pd.to_datetime(weather['StartTime(UTC)']).dt.date"
   ]
  },
  {
   "cell_type": "markdown",
   "metadata": {},
   "source": [
    "# Step 2: Merge Weather and Airports for IATA Codes"
   ]
  },
  {
   "cell_type": "code",
   "execution_count": 4,
   "metadata": {},
   "outputs": [],
   "source": [
    "# Merge weather explicitly with airports to get IATA codes\n",
    "weather_with_iata = weather.merge(\n",
    "    airport_codes,\n",
    "    left_on='AirportCode',\n",
    "    right_on='ICAO',\n",
    "    how='left'\n",
    ")"
   ]
  },
  {
   "cell_type": "markdown",
   "metadata": {},
   "source": [
    "# Step 3: Clean Flights Dataset"
   ]
  },
  {
   "cell_type": "code",
   "execution_count": 5,
   "metadata": {},
   "outputs": [],
   "source": [
    "# Clean flights dataset explicitly\n",
    "flights['ORIGIN'] = flights['ORIGIN'].str.strip().str.upper()\n",
    "flights['DEST'] = flights['DEST'].str.strip().str.upper()\n",
    "flights['Date'] = pd.to_datetime(flights['FL_DATE']).dt.date"
   ]
  },
  {
   "cell_type": "markdown",
   "metadata": {},
   "source": [
    "# Step 4: Merge Weather and Flight Datasets"
   ]
  },
  {
   "cell_type": "code",
   "execution_count": 6,
   "metadata": {},
   "outputs": [],
   "source": [
    "# Merge weather data explicitly with flights data based on ORIGIN airport and Date\n",
    "merged_origin_weather = flights.merge(\n",
    "    weather_with_iata,\n",
    "    left_on=['ORIGIN', 'Date'],\n",
    "    right_on=['IATA', 'Date'],\n",
    "    how='left',\n",
    "    suffixes=('', '_origin_weather')\n",
    ").rename(columns={\n",
    "    'Type': 'WeatherType_Origin',\n",
    "    'Severity': 'Severity_Origin',\n",
    "    'Precipitation(in)': 'Precipitation_Origin'\n",
    "})\n",
    "\n",
    "# Merge weather data explicitly again with flights data for DEST airport\n",
    "merged_full_weather = merged_origin_weather.merge(\n",
    "    weather_with_iata,\n",
    "    left_on=['DEST', 'Date'],\n",
    "    right_on=['IATA', 'Date'],\n",
    "    how='left',\n",
    "    suffixes=('', '_dest_weather')\n",
    ").rename(columns={\n",
    "    'Type': 'WeatherType_Dest',\n",
    "    'Severity': 'Severity_Dest',\n",
    "    'Precipitation(in)': 'Precipitation_Dest'\n",
    "})"
   ]
  },
  {
   "cell_type": "markdown",
   "metadata": {},
   "source": [
    "# Step 5: Clean and Finalise"
   ]
  },
  {
   "cell_type": "code",
   "execution_count": 7,
   "metadata": {},
   "outputs": [
    {
     "name": "stdout",
     "output_type": "stream",
     "text": [
      "✅ Successfully merged Flights and Weather datasets. Here's a preview:\n",
      "      FL_DATE                AIRLINE                AIRLINE_DOT AIRLINE_CODE  \\\n",
      "0  2019-01-09  United Air Lines Inc.  United Air Lines Inc.: UA           UA   \n",
      "1  2022-11-19   Delta Air Lines Inc.   Delta Air Lines Inc.: DL           DL   \n",
      "2  2022-11-19   Delta Air Lines Inc.   Delta Air Lines Inc.: DL           DL   \n",
      "3  2022-11-19   Delta Air Lines Inc.   Delta Air Lines Inc.: DL           DL   \n",
      "4  2022-11-19   Delta Air Lines Inc.   Delta Air Lines Inc.: DL           DL   \n",
      "\n",
      "   DOT_CODE  FL_NUMBER ORIGIN          ORIGIN_CITY DEST    DEST_CITY  ...  \\\n",
      "0     19977       1562    FLL  Fort Lauderdale, FL  EWR   Newark, NJ  ...   \n",
      "1     19790       1149    MSP      Minneapolis, MN  SEA  Seattle, WA  ...   \n",
      "2     19790       1149    MSP      Minneapolis, MN  SEA  Seattle, WA  ...   \n",
      "3     19790       1149    MSP      Minneapolis, MN  SEA  Seattle, WA  ...   \n",
      "4     19790       1149    MSP      Minneapolis, MN  SEA  Seattle, WA  ...   \n",
      "\n",
      "   StartTime(UTC)_dest_weather  EndTime(UTC)_dest_weather  Precipitation_Dest  \\\n",
      "0          2019-01-09 03:37:00        2019-01-09 06:51:00                 0.4   \n",
      "1                          NaN                        NaN                 NaN   \n",
      "2                          NaN                        NaN                 NaN   \n",
      "3                          NaN                        NaN                 NaN   \n",
      "4                          NaN                        NaN                 NaN   \n",
      "\n",
      "   TimeZone_dest_weather  LocationLat_dest_weather  LocationLng_dest_weather  \\\n",
      "0             US/Eastern                   40.6827                  -74.1693   \n",
      "1                    NaN                       NaN                       NaN   \n",
      "2                    NaN                       NaN                       NaN   \n",
      "3                    NaN                       NaN                       NaN   \n",
      "4                    NaN                       NaN                       NaN   \n",
      "\n",
      "   City_dest_weather  County_dest_weather  State_dest_weather  \\\n",
      "0             Newark                Union                  NJ   \n",
      "1                NaN                  NaN                 NaN   \n",
      "2                NaN                  NaN                 NaN   \n",
      "3                NaN                  NaN                 NaN   \n",
      "4                NaN                  NaN                 NaN   \n",
      "\n",
      "   ZipCode_dest_weather  \n",
      "0                7114.0  \n",
      "1                   NaN  \n",
      "2                   NaN  \n",
      "3                   NaN  \n",
      "4                   NaN  \n",
      "\n",
      "[5 rows x 59 columns]\n",
      "\n",
      "Final merged dataset dimensions: (11852084, 59)\n",
      "✅ Small verification file 'small_sample_flights_weather.csv' created (first 50 rows).\n"
     ]
    }
   ],
   "source": [
    "# Drop redundant columns explicitly to clearly finalize dataset\n",
    "final_columns_to_drop = ['AirportCode', 'ICAO', 'IATA', 'AirportCode_dest_weather', 'ICAO_dest_weather', 'IATA_dest_weather']\n",
    "final_dataset = merged_full_weather.drop(columns=final_columns_to_drop, errors='ignore')\n",
    "\n",
    "# Save explicitly the final cleaned merged dataset\n",
    "final_dataset.to_csv('final_flights_weather_merged.csv', index=False)\n",
    "\n",
    "# Also explicitly output a smaller file for quick verification (first 50 rows)\n",
    "final_dataset.head(50).to_csv('small_sample_flights_weather.csv', index=False)\n",
    "\n",
    "# Explicitly verify the merged dataset clearly\n",
    "print(\"✅ Successfully merged Flights and Weather datasets. Here's a preview:\")\n",
    "print(final_dataset.head())\n",
    "print(f\"\\nFinal merged dataset dimensions: {final_dataset.shape}\")\n",
    "print(\"✅ Small verification file 'small_sample_flights_weather.csv' created (first 50 rows).\")"
   ]
  }
 ],
 "metadata": {
  "kernelspec": {
   "display_name": "base",
   "language": "python",
   "name": "python3"
  },
  "language_info": {
   "codemirror_mode": {
    "name": "ipython",
    "version": 3
   },
   "file_extension": ".py",
   "mimetype": "text/x-python",
   "name": "python",
   "nbconvert_exporter": "python",
   "pygments_lexer": "ipython3",
   "version": "3.8.8"
  }
 },
 "nbformat": 4,
 "nbformat_minor": 2
}
